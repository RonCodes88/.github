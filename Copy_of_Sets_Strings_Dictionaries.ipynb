{
  "nbformat": 4,
  "nbformat_minor": 0,
  "metadata": {
    "colab": {
      "provenance": [],
      "include_colab_link": true
    },
    "kernelspec": {
      "name": "python3",
      "display_name": "Python 3"
    },
    "language_info": {
      "name": "python"
    }
  },
  "cells": [
    {
      "cell_type": "markdown",
      "metadata": {
        "id": "view-in-github",
        "colab_type": "text"
      },
      "source": [
        "<a href=\"https://colab.research.google.com/github/RonCodes88/.github/blob/main/Copy_of_Sets_Strings_Dictionaries.ipynb\" target=\"_parent\"><img src=\"https://colab.research.google.com/assets/colab-badge.svg\" alt=\"Open In Colab\"/></a>"
      ]
    },
    {
      "cell_type": "markdown",
      "source": [
        "SETS"
      ],
      "metadata": {
        "id": "5FcMveE7wzOW"
      }
    },
    {
      "cell_type": "markdown",
      "source": [
        "#SETS"
      ],
      "metadata": {
        "id": "l9SYYx9lw3Zf"
      }
    },
    {
      "cell_type": "markdown",
      "source": [
        "\n",
        "\n",
        "*   A set in Python is an unordered collection of objects\n",
        "*   Mainly used in situations where membership and uniqueness in the set are the focus.\n",
        "* Items in a set must be immutable and hash-\n",
        "able\n",
        "* ints, floats, strings, and tuples can be members of a set, but lists, dictionaries, and sets themselves can’t.\n",
        "* set() function accepts any iterable object as input. Example: lists, tuples, strings, etc.\n",
        "\n",
        "NOTE: Set itself is mutable, elements of a set are not."
      ],
      "metadata": {
        "id": "tMPHLDB5w8xm"
      }
    },
    {
      "cell_type": "code",
      "source": [
        "x = set([7,8,1,2,3,3,2,1,4,10,11,19,28,830,300,6])\n",
        "print(x)\n",
        "\n",
        "a=\"hello\"\n",
        "b=\"\"+\"hello\"\n",
        "print(id(a),id(b))"
      ],
      "metadata": {
        "id": "Z1BeCC77xaWx",
        "colab": {
          "base_uri": "https://localhost:8080/"
        },
        "outputId": "e46ee15c-1a93-40eb-ebb7-5b4f3bb91969"
      },
      "execution_count": null,
      "outputs": [
        {
          "output_type": "stream",
          "name": "stdout",
          "text": [
            "{1, 2, 3, 4, 6, 7, 8, 10, 11, 300, 19, 28, 830}\n",
            "135267849347888 135267849347888\n"
          ]
        }
      ]
    },
    {
      "cell_type": "markdown",
      "source": [
        "| Set operation |  Explanation | Usage|\n",
        "|:--------------|:----------------|:----------------|\n",
        "| set | Create a set. Note that create an empty is set()  but not { }|x=set()|\n",
        "| add | Add an element to the set |x.add()|\n",
        "| remove | Remove an element from the set |x.remove()|\n",
        "| in | Return whether an item is in a set |y in x|\n",
        "| len | Return the number of items in a set |len(x)|\n",
        "| \\| or union | Get the union of two sets |x \\| y or  x.union(y) |\n",
        "| \\& or intersection| Get the intersection of two sets | x \\& y or x.intersection(y) |\n",
        "| - or difference| Get the difference between two sets | x - y or x.difference(y) |\n",
        "| ^ or symmetric difference| Get the symmetric difference (elements that are in one set or the other but not both) | z= x ^ y or z = x.symetric_difference(y) |\n",
        "| frozenset | Makes a set become immutable and hashable | frozenset() |\n"
      ],
      "metadata": {
        "id": "KtFKGDbqy0MF"
      }
    },
    {
      "cell_type": "markdown",
      "source": [
        "<br><center>\n",
        "  <img src=\"https://upload.wikimedia.org/wikipedia/commons/7/7c/Op%C3%A9rations_ensembles_sets_operations.png\" width=350></center>"
      ],
      "metadata": {
        "id": "z779To0E13Un"
      }
    },
    {
      "cell_type": "code",
      "source": [
        "# Use the two sets and implement the four operations shown in the image.\n",
        "\n",
        "A={4,3,2,1}\n",
        "B={7,5,4,3}\n",
        "\n",
        "# your code goes here\n",
        "union = A.union(B)\n",
        "print(union)\n",
        "\n",
        "intersection = A.intersection(B)\n",
        "print(intersection)\n",
        "\n",
        "difference = A.difference(B)\n",
        "print(difference)\n",
        "\n",
        "symmetric_difference = A.symmetric_difference(B)\n",
        "print(symmetric_difference)\n",
        "\n",
        "\n",
        "c=[1,2,3]\n",
        "c=frozenset(c)\n",
        "\n",
        "\n",
        "# Test this . Can a frozen set be part of another set?\n",
        "frozen = set(c)\n",
        "print(frozen)"
      ],
      "metadata": {
        "id": "2JjbI-Zm18NQ",
        "colab": {
          "base_uri": "https://localhost:8080/"
        },
        "outputId": "b8f7fdd4-e8ef-4003-fb9a-da626d804166"
      },
      "execution_count": null,
      "outputs": [
        {
          "output_type": "stream",
          "name": "stdout",
          "text": [
            "{1, 2, 3, 4, 5, 7}\n",
            "{3, 4}\n",
            "{1, 2}\n",
            "{1, 2, 5, 7}\n",
            "{1, 2, 3}\n"
          ]
        }
      ]
    },
    {
      "cell_type": "markdown",
      "source": [
        "#STRINGS"
      ],
      "metadata": {
        "id": "N2qzVGB_9SYn"
      }
    },
    {
      "cell_type": "markdown",
      "source": [
        "\n",
        "\n",
        "*   Strings can be considered to be sequences of characters, which means that you can use index or slice notation\n",
        "*   Strings must be between a pair of single or double quotes. Quotes other than opening and closing quotes are part of the string.\n",
        "\n",
        "\n"
      ],
      "metadata": {
        "id": "z4hvsR0M9Wa_"
      }
    },
    {
      "cell_type": "code",
      "source": [
        "x = \"Hello\"\n",
        "y = 'How are you?'\n",
        "z = \"I am 'fine' \"\n",
        "\n",
        "print( x )\n",
        "print( y )\n",
        "print( z )"
      ],
      "metadata": {
        "id": "L0Bq0XZe-ETW",
        "colab": {
          "base_uri": "https://localhost:8080/"
        },
        "outputId": "031a5530-c60a-4cb6-89ee-54a182014522"
      },
      "execution_count": null,
      "outputs": [
        {
          "output_type": "stream",
          "name": "stdout",
          "text": [
            "Hello\n",
            "How are you?\n",
            "I am 'fine' \n"
          ]
        }
      ]
    },
    {
      "cell_type": "markdown",
      "source": [
        "Indexing and slicing"
      ],
      "metadata": {
        "id": "Q5Va5c0Y_A7C"
      }
    },
    {
      "cell_type": "code",
      "source": [
        "# Indexing or slicing works just like lists\n",
        "#Guess the outputs\n",
        "x = \"Hello\"\n",
        "print(x[0])\n",
        "print(x[-1])\n",
        "print(x[1:])"
      ],
      "metadata": {
        "id": "WL2gjjiA-ZYp",
        "colab": {
          "base_uri": "https://localhost:8080/"
        },
        "outputId": "30d7262c-5f91-4704-eea3-f3b49544b1fe"
      },
      "execution_count": null,
      "outputs": [
        {
          "output_type": "stream",
          "name": "stdout",
          "text": [
            "H\n",
            "o\n",
            "ello\n"
          ]
        }
      ]
    },
    {
      "cell_type": "code",
      "source": [
        "#can you use a method from yesterday's discussion to print every other alphabet in x ?\n",
        "print(x[::2])\n",
        "#your code goes here\n",
        "x[::2]"
      ],
      "metadata": {
        "id": "N6gGedOOCQFe",
        "colab": {
          "base_uri": "https://localhost:8080/",
          "height": 53
        },
        "outputId": "dfc070fa-a42d-4156-ec31-715ed3034cbf"
      },
      "execution_count": null,
      "outputs": [
        {
          "output_type": "stream",
          "name": "stdout",
          "text": [
            "Hlo\n"
          ]
        },
        {
          "output_type": "execute_result",
          "data": {
            "text/plain": [
              "'Hlo'"
            ],
            "application/vnd.google.colaboratory.intrinsic+json": {
              "type": "string"
            }
          },
          "metadata": {},
          "execution_count": 28
        }
      ]
    },
    {
      "cell_type": "markdown",
      "source": [
        "Basic string operations:"
      ],
      "metadata": {
        "id": "1bWm-Qyk-6jp"
      }
    },
    {
      "cell_type": "code",
      "source": [
        "x = \"Hello \" + \"World\"  # concatenation\n",
        "print(x)\n",
        "\n",
        "x = 5 * x #multiplication\n",
        "print(x)"
      ],
      "metadata": {
        "id": "7XIel0OBCt8A",
        "colab": {
          "base_uri": "https://localhost:8080/"
        },
        "outputId": "65d1f4c3-42e5-4d6f-fbe5-ded53699ac85"
      },
      "execution_count": null,
      "outputs": [
        {
          "output_type": "stream",
          "name": "stdout",
          "text": [
            "Hello World\n",
            "Hello WorldHello WorldHello WorldHello WorldHello World\n"
          ]
        }
      ]
    },
    {
      "cell_type": "code",
      "source": [
        "#string concatenation requries both arguments to be strings\n",
        "\n",
        "x = \"Hello\" + str(5)\n",
        "x"
      ],
      "metadata": {
        "id": "JHoTudg-DPZP",
        "colab": {
          "base_uri": "https://localhost:8080/",
          "height": 36
        },
        "outputId": "f87f3fda-64e5-45f6-e720-bbe1e6e13288"
      },
      "execution_count": null,
      "outputs": [
        {
          "output_type": "execute_result",
          "data": {
            "text/plain": [
              "'Hello5'"
            ],
            "application/vnd.google.colaboratory.intrinsic+json": {
              "type": "string"
            }
          },
          "metadata": {},
          "execution_count": 30
        }
      ]
    },
    {
      "cell_type": "markdown",
      "source": [
        "\n",
        "\n",
        "Special characters and escape sequences\n",
        "\n",
        "|Espace Sequences | Character|\n",
        "|-----------------|---------|\n",
        "|\\\\'| Single-quote character|\n",
        "|\\\\\"| Double-quote character|\n",
        "|\\\\\\\\| Backslash character|\n",
        "|\\\\a| Bell character|\n",
        "|\\\\b| Backspace character|\n",
        "|\\\\n| Newline character|\n",
        "|\\\\r| Carriage-return character (not the same as \\n)|\n",
        "|\\\\t| Tab character|\n",
        "|\\\\v| Vertical tab character|\n",
        "\n",
        "NOTE: We will cover unicodes and unicode escapes later when we revisit strings  during data manipulation."
      ],
      "metadata": {
        "id": "AqgIRAxHDBa1"
      }
    },
    {
      "cell_type": "code",
      "source": [
        "# some of these have different results in IDE and notebooks.\n",
        "\n",
        "a = \"\\' Single-quote character \\\" Double-quote character \\\\ Backslash character \\a Bell character aa\\baa Backspace character \\n Newline character \\r Carriage-return character (not the same as \\n) \\t Tab character \\v Vertical tab character \\' Single-quote character \\\" Double-quote character \\\\ Backslash character \\a Bell character \\b Backspace character \\n Newline character \\r Carriage-return character (not the same as \\n) \\t Tab character \\v Vertical tab character \"\n",
        "\n",
        "print(a)"
      ],
      "metadata": {
        "id": "T3hrBFUGDz8T",
        "colab": {
          "base_uri": "https://localhost:8080/"
        },
        "outputId": "3bee9015-8003-4432-ff4a-f16881b23f09"
      },
      "execution_count": null,
      "outputs": [
        {
          "output_type": "stream",
          "name": "stdout",
          "text": [
            "' Single-quote character \" Double-quote character \\ Backslash character \u0007 Bell character aa\baa Backspace character \n",
            " Newline character \r Carriage-return character (not the same as \n",
            ") \t Tab character \u000b Vertical tab character ' Single-quote character \" Double-quote character \\ Backslash character \u0007 Bell character \b Backspace character \n",
            " Newline character \r Carriage-return character (not the same as \n",
            ") \t Tab character \u000b Vertical tab character \n"
          ]
        }
      ]
    },
    {
      "cell_type": "markdown",
      "source": [
        "# String methods:\n",
        "\n",
        "* Python string methods are built into the standard Python string class, so all string objects have them automatically.\n",
        "* There are too many string methods to list here, so we will look at a few popular ones and the rest can be found here: [Exhaustive list of string methods](https://www.geeksforgeeks.org/python-string-methods/)\n",
        "\n",
        "Here is a list of useful String methods:\n",
        "\n",
        "* capitalize()\n",
        "* lower()\n",
        "* upper()\n",
        "* title()\n",
        "* count() , Takes substring as an arguement and returns number of occurances of that substring\n",
        "* find(), Takes substring as an arguement and returns lowest index of that substring if it occurs with the string\n",
        "* replace(), Takes two substrings as arguements and replaces one with other\n",
        "* swapcase()\n",
        "* split(), Takes a substring as an arguement and splits the string where the substring occur, returns a list.\n",
        "* strip(), rstrip(), lstrip() ,  strip removes any and all of the characters in the extra parameter strin from the sides,\n",
        "no matter in which order they occur. rstrip and lstrip remove from the right and left side of the string respectively, till a non parameter character is reached.\n",
        "\n",
        "* join(), join takes a list of strings and puts them together to form a single string with the original string between each element ."
      ],
      "metadata": {
        "id": "dymvn0lKHsdG"
      }
    },
    {
      "cell_type": "code",
      "source": [
        "astr = '\\nabc\\ndef\\nc\\n\\n'\n",
        "print(astr)"
      ],
      "metadata": {
        "id": "gcTKnzV2IAuv",
        "colab": {
          "base_uri": "https://localhost:8080/"
        },
        "outputId": "4ca335a7-b4a2-4565-b473-0a005eb60f0f"
      },
      "execution_count": null,
      "outputs": [
        {
          "output_type": "stream",
          "name": "stdout",
          "text": [
            "\n",
            "abc\n",
            "def\n",
            "c\n",
            "\n",
            "\n"
          ]
        }
      ]
    },
    {
      "cell_type": "code",
      "source": [
        "newstr = astr.strip('\\n')\n",
        "print(newstr)\n",
        "list1 = newstr.split('\\n')\n",
        "print(list1)"
      ],
      "metadata": {
        "id": "ITQdaRJsIKjY",
        "colab": {
          "base_uri": "https://localhost:8080/"
        },
        "outputId": "0bee75d6-5ba9-44b9-d11b-2883e004d33c"
      },
      "execution_count": null,
      "outputs": [
        {
          "output_type": "stream",
          "name": "stdout",
          "text": [
            "abc\n",
            "def\n",
            "c\n",
            "['abc', 'def', 'c']\n"
          ]
        }
      ]
    },
    {
      "cell_type": "code",
      "source": [
        "newstr.replace('\\n', '')\n"
      ],
      "metadata": {
        "id": "pkYEMUJdNLVz",
        "colab": {
          "base_uri": "https://localhost:8080/",
          "height": 36
        },
        "outputId": "92e54de0-331a-4cbf-8502-e834bed2cb34"
      },
      "execution_count": null,
      "outputs": [
        {
          "output_type": "execute_result",
          "data": {
            "text/plain": [
              "'abcdefc'"
            ],
            "application/vnd.google.colaboratory.intrinsic+json": {
              "type": "string"
            }
          },
          "metadata": {},
          "execution_count": 35
        }
      ]
    },
    {
      "cell_type": "code",
      "source": [
        "print(\"HELLO\".join(list1))"
      ],
      "metadata": {
        "id": "oZ6CinMsNPPW",
        "colab": {
          "base_uri": "https://localhost:8080/"
        },
        "outputId": "28338acf-d9f5-4c35-f94d-a8620801909c"
      },
      "execution_count": null,
      "outputs": [
        {
          "output_type": "stream",
          "name": "stdout",
          "text": [
            "abcHELLOdefHELLOc\n"
          ]
        }
      ]
    },
    {
      "cell_type": "code",
      "source": [
        "stars = 'ab*gcsdsf*safsadf'"
      ],
      "metadata": {
        "id": "k5R8RXcnNQsh"
      },
      "execution_count": null,
      "outputs": []
    },
    {
      "cell_type": "code",
      "source": [
        "stars.split('*')"
      ],
      "metadata": {
        "id": "C6pvMrNSNSFI",
        "colab": {
          "base_uri": "https://localhost:8080/"
        },
        "outputId": "23700faa-4bc4-4ab2-eaa4-d069138d925c"
      },
      "execution_count": null,
      "outputs": [
        {
          "output_type": "execute_result",
          "data": {
            "text/plain": [
              "['ab', 'gcsdsf', 'safsadf']"
            ]
          },
          "metadata": {},
          "execution_count": 39
        }
      ]
    },
    {
      "cell_type": "code",
      "source": [
        "print(\"\".join(stars.split('*')))"
      ],
      "metadata": {
        "id": "jDW9fSYXNTWQ",
        "colab": {
          "base_uri": "https://localhost:8080/"
        },
        "outputId": "d0aa06e2-d140-4b7f-f25d-f0dd53e3d5ac"
      },
      "execution_count": null,
      "outputs": [
        {
          "output_type": "stream",
          "name": "stdout",
          "text": [
            "abgcsdsfsafsadf\n"
          ]
        }
      ]
    },
    {
      "cell_type": "code",
      "source": [
        "quote = \"This is a test message. Hello \"\n",
        "print(1, quote.capitalize()) # Only the first character is uppercase.\n",
        "print(2, quote.lower()) # Every letter is lowercase\n",
        "print(3, quote.upper()) # Every letter is uppercase\n",
        "print(4, quote.title()) # Every word starts with uppercase\n",
        "print(5, quote.count('e')) # Count how many lowercase 'e' is in the string\n",
        "print(6, quote.find('a')) # Find the index of the substring 'you' in the string\n",
        "print(7, quote.replace('test', 'best')) # replace\n",
        "print(8, quote.swapcase()) # Swap case"
      ],
      "metadata": {
        "id": "Ysl9NlLlNUyZ",
        "colab": {
          "base_uri": "https://localhost:8080/"
        },
        "outputId": "ccb79957-485d-4725-ec29-4b7f9b58ecee"
      },
      "execution_count": null,
      "outputs": [
        {
          "output_type": "stream",
          "name": "stdout",
          "text": [
            "1 This is a test message. hello \n",
            "2 this is a test message. hello \n",
            "3 THIS IS A TEST MESSAGE. HELLO \n",
            "4 This Is A Test Message. Hello \n",
            "5 4\n",
            "6 8\n",
            "7 This is a best message. Hello \n",
            "8 tHIS IS A TEST MESSAGE. hELLO \n"
          ]
        }
      ]
    },
    {
      "cell_type": "code",
      "source": [
        "aList = ['CS122','Spring','Lecture']\n",
        "print(\"HELLO\".join(aList))"
      ],
      "metadata": {
        "id": "c783pTGGNcdx"
      },
      "execution_count": null,
      "outputs": []
    },
    {
      "cell_type": "markdown",
      "source": [
        "# Format Strings\n",
        "\n",
        "A simple way to use the string format method is with numbered replacement fields that correspond to the parameters passed to the format function."
      ],
      "metadata": {
        "id": "0PW_x1qQNpOL"
      }
    },
    {
      "cell_type": "code",
      "source": [
        "\"{0} are for {1}\".format(\"Weekends\", \"parties\")"
      ],
      "metadata": {
        "id": "b6rtDz-DOE06",
        "colab": {
          "base_uri": "https://localhost:8080/",
          "height": 36
        },
        "outputId": "abec6e21-b22e-4d01-9e38-1474408fa029"
      },
      "execution_count": null,
      "outputs": [
        {
          "output_type": "execute_result",
          "data": {
            "text/plain": [
              "'Weekends are for parties'"
            ],
            "application/vnd.google.colaboratory.intrinsic+json": {
              "type": "string"
            }
          },
          "metadata": {},
          "execution_count": 43
        }
      ]
    },
    {
      "cell_type": "code",
      "source": [
        "v1 = 'Weekends'\n",
        "\"{days} are for {what}\".format( days=v1,what=\"parties\")"
      ],
      "metadata": {
        "id": "2opQJNb6OcyK",
        "colab": {
          "base_uri": "https://localhost:8080/",
          "height": 36
        },
        "outputId": "204a141b-c397-4c61-9d28-7df8f86bbddc"
      },
      "execution_count": null,
      "outputs": [
        {
          "output_type": "execute_result",
          "data": {
            "text/plain": [
              "'Weekends are for parties'"
            ],
            "application/vnd.google.colaboratory.intrinsic+json": {
              "type": "string"
            }
          },
          "metadata": {},
          "execution_count": 44
        }
      ]
    },
    {
      "cell_type": "markdown",
      "source": [
        "There is one important funcitonality that we will circle back to when in need.\n",
        "\n",
        "Translate :\n",
        "Usage first we define a mapping using maketrans(characters1,characters2).\n",
        "Then we can call translate function on the string to make the translation.\n",
        "A basic example is shown. We will look into the details later."
      ],
      "metadata": {
        "id": "rl873gCNHfi6"
      }
    },
    {
      "cell_type": "code",
      "source": [
        "x = \"~x ^ (y % z)\"\n",
        "table = x.maketrans(\"~^()\", \"!&[]\")\n",
        "x.translate(table)"
      ],
      "metadata": {
        "id": "LEhud6NgIdsz",
        "colab": {
          "base_uri": "https://localhost:8080/",
          "height": 36
        },
        "outputId": "a1000f69-5306-4e32-936f-7b061a8d363d"
      },
      "execution_count": null,
      "outputs": [
        {
          "output_type": "execute_result",
          "data": {
            "text/plain": [
              "'!x & [y % z]'"
            ],
            "application/vnd.google.colaboratory.intrinsic+json": {
              "type": "string"
            }
          },
          "metadata": {},
          "execution_count": 45
        }
      ]
    },
    {
      "cell_type": "markdown",
      "source": [
        "# Dictionaries\n",
        "\n",
        "* A data type that store key:value pairs.\n",
        "* Each pair of data, consisting of a key and a value, is called an item.\n",
        "* To create an empty dictionary, we use curly brackets {}.\n",
        "* When storing items in a dictionary, we separate them with commas.\n",
        "* Dictionary is the best data type for look-up (like a phone book).\n",
        "* Key is immutable and value can be mutable"
      ],
      "metadata": {
        "id": "vvNGZDUZPfRM"
      }
    },
    {
      "cell_type": "code",
      "source": [
        "# an empty dictionary\n",
        "\n",
        "empty_dictionary = {}\n",
        "print(empty_dictionary)\n",
        "\n",
        "# dictonary with 3 key value pairs\n",
        "\n",
        "english_to_french = {'red': 'rouge', 'blue': 'bleu', 'green': 'vert'}\n",
        "\n",
        "print(len(english_to_french))\n",
        "print(list(english_to_french.keys()))\n",
        "print(list(english_to_french.values()))\n",
        "print(list(english_to_french.items()))"
      ],
      "metadata": {
        "id": "XcdybEhUQNzw",
        "colab": {
          "base_uri": "https://localhost:8080/"
        },
        "outputId": "b7dcb80b-05e4-4765-db5b-0677430fd733"
      },
      "execution_count": null,
      "outputs": [
        {
          "output_type": "stream",
          "name": "stdout",
          "text": [
            "{}\n",
            "3\n",
            "['red', 'blue', 'green']\n",
            "['rouge', 'bleu', 'vert']\n",
            "[('red', 'rouge'), ('blue', 'bleu'), ('green', 'vert')]\n"
          ]
        }
      ]
    },
    {
      "cell_type": "code",
      "source": [
        "del english_to_french['green']\n",
        "list(english_to_french.items())"
      ],
      "metadata": {
        "id": "M4d2qgNGQ3qX",
        "colab": {
          "base_uri": "https://localhost:8080/",
          "height": 158
        },
        "outputId": "673a330a-2534-4ccc-fc9c-8fe5e1ad5b73"
      },
      "execution_count": null,
      "outputs": [
        {
          "output_type": "error",
          "ename": "KeyError",
          "evalue": "'green'",
          "traceback": [
            "\u001b[0;31m---------------------------------------------------------------------------\u001b[0m",
            "\u001b[0;31mKeyError\u001b[0m                                  Traceback (most recent call last)",
            "\u001b[0;32m<ipython-input-53-467bf7550f26>\u001b[0m in \u001b[0;36m<cell line: 0>\u001b[0;34m()\u001b[0m\n\u001b[0;32m----> 1\u001b[0;31m \u001b[0;32mdel\u001b[0m \u001b[0menglish_to_french\u001b[0m\u001b[0;34m[\u001b[0m\u001b[0;34m'green'\u001b[0m\u001b[0;34m]\u001b[0m\u001b[0;34m\u001b[0m\u001b[0;34m\u001b[0m\u001b[0m\n\u001b[0m\u001b[1;32m      2\u001b[0m \u001b[0mlist\u001b[0m\u001b[0;34m(\u001b[0m\u001b[0menglish_to_french\u001b[0m\u001b[0;34m.\u001b[0m\u001b[0mitems\u001b[0m\u001b[0;34m(\u001b[0m\u001b[0;34m)\u001b[0m\u001b[0;34m)\u001b[0m\u001b[0;34m\u001b[0m\u001b[0;34m\u001b[0m\u001b[0m\n",
            "\u001b[0;31mKeyError\u001b[0m: 'green'"
          ]
        }
      ]
    },
    {
      "cell_type": "code",
      "source": [
        "#test these\n",
        "\n",
        "# del english_to_french['morning']\n",
        "print(english_to_french.get('blue', 'No translation'))\n",
        "print(english_to_french.get('cheese', 'No translation'))\n",
        "\n"
      ],
      "metadata": {
        "id": "rY1eYqXYREWb",
        "colab": {
          "base_uri": "https://localhost:8080/"
        },
        "outputId": "8b3e54b0-1357-4b55-ed97-59cb4d3890dd"
      },
      "execution_count": null,
      "outputs": [
        {
          "output_type": "stream",
          "name": "stdout",
          "text": [
            "bleu\n",
            "No translation\n"
          ]
        }
      ]
    },
    {
      "cell_type": "markdown",
      "source": [
        "\n",
        "\n",
        "|Dictionary operation| Explanatio | Example|\n",
        "|--------------------|------------|--------|\n",
        "|{} |Creates an empty dictionary |x = {}|\n",
        "|len |Returns the number of entries in a dictionary |len(x)|\n",
        "|keys |Returns a view of all keys in a dictionary |x.keys()|\n",
        "|values |Returns a view of all values in a dictionary |x.values()|\n",
        "|items |Returns a view of all items in a dictionary| x.items()|\n",
        "|del| Removes an entry from a dictionary |del(x[key])|\n",
        "|in |Tests whether a key exists in a dictionary |'y' in x|\n",
        "|get| Returns the value of a key or a configurable default |x.get('y', None)|\n",
        "|setdefault |Returns the value if the key is in the dictionary; otherwise, sets the value for the key to the default and returns the value |x.setdefault('y', None)|\n",
        "|copy | Makes a shallow copy of a dictionary |y = x.copy()|\n",
        "|update  | Combines the entries of two dictionaries |x.update(z)|"
      ],
      "metadata": {
        "id": "JBZTUXxdSSHZ"
      }
    },
    {
      "cell_type": "code",
      "source": [
        "# Try atleast 4 different operations here\n",
        "nums = {'A' : 1, 'B': 2, 'C': 3, 'D': 4}\n",
        "print(list(nums.keys()))\n",
        "print(list(nums.values()))\n",
        "print(list(nums.items()))\n",
        "\n",
        "del nums['A']\n",
        "print(list(nums.items()))\n",
        "\n",
        "'A' in nums\n",
        "nums1 = nums.copy()\n",
        "print(nums1)\n",
        "\n",
        "nums1.update(nums)\n",
        "print(nums1)\n",
        "# your code goes here"
      ],
      "metadata": {
        "id": "QzB5D0z4TP55",
        "colab": {
          "base_uri": "https://localhost:8080/"
        },
        "outputId": "0d16312d-c6c1-42b5-a063-ef25e5c27ef7"
      },
      "execution_count": null,
      "outputs": [
        {
          "output_type": "stream",
          "name": "stdout",
          "text": [
            "['A', 'B', 'C', 'D']\n",
            "[1, 2, 3, 4]\n",
            "[('A', 1), ('B', 2), ('C', 3), ('D', 4)]\n",
            "[('B', 2), ('C', 3), ('D', 4)]\n",
            "{'B': 2, 'C': 3, 'D': 4}\n",
            "{'B': 2, 'C': 3, 'D': 4}\n"
          ]
        }
      ]
    }
  ]
}